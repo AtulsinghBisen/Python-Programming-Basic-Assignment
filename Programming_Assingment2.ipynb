{
 "cells": [
  {
   "cell_type": "markdown",
   "id": "8f0b1a81",
   "metadata": {},
   "source": [
    "# 1.\tWrite a Python program to convert kilometers to miles?# \n"
   ]
  },
  {
   "cell_type": "code",
   "execution_count": 12,
   "id": "f1ddb2fc",
   "metadata": {},
   "outputs": [
    {
     "name": "stdout",
     "output_type": "stream",
     "text": [
      "Please enter distance in Kilometers : 500\n",
      "500.0 kilometers is equal to  310.75201988812927 miles\n"
     ]
    }
   ],
   "source": [
    "Distance =float (input(\"Please enter distance in Kilometers : \"))\n",
    "_miles = Distance/1.609\n",
    "print(Distance, \"kilometers is equal to \" ,_miles ,\"miles\" )\n"
   ]
  },
  {
   "cell_type": "markdown",
   "id": "c322e3e2",
   "metadata": {},
   "source": [
    "# another way to write program"
   ]
  },
  {
   "cell_type": "code",
   "execution_count": 21,
   "id": "dd5daeab",
   "metadata": {},
   "outputs": [
    {
     "name": "stdout",
     "output_type": "stream",
     "text": [
      " 500 km is equal to miles.\n"
     ]
    }
   ],
   "source": [
    "def km_to_miles(km):\n",
    "    miles = km*0.621371\n",
    "    print(\" {} km is equal to {}miles.\".format(km, miles))\n",
    "\n",
    "a = km_to_miles(500)"
   ]
  },
  {
   "cell_type": "markdown",
   "id": "6841f8a9",
   "metadata": {},
   "source": [
    "# 2.\tWrite a Python program to convert Celsius to Fahrenheit?"
   ]
  },
  {
   "cell_type": "code",
   "execution_count": 24,
   "id": "ea4f4b3f",
   "metadata": {},
   "outputs": [
    {
     "name": "stdout",
     "output_type": "stream",
     "text": [
      "Please enter Temprature in C° : 20\n",
      "20.0 C° is equal to  68.0 F°\n"
     ]
    }
   ],
   "source": [
    "Temprature = float (input(\"Please enter Temprature in C° : \"))\n",
    "convert = (Temprature*1.8) + 32\n",
    "print(Temprature , \"C° is equal to \" ,convert ,\"F°\" )"
   ]
  },
  {
   "cell_type": "markdown",
   "id": "0e7003d0",
   "metadata": {},
   "source": [
    "# another way to write program"
   ]
  },
  {
   "cell_type": "code",
   "execution_count": 25,
   "id": "147c7fdb",
   "metadata": {},
   "outputs": [
    {
     "name": "stdout",
     "output_type": "stream",
     "text": [
      "20°C is equal to 68.0°F\n"
     ]
    }
   ],
   "source": [
    "def celsius_to_fahrenheit(C):\n",
    "    fah = (C * 9/5) + 32\n",
    "    print(\"{}°C is equal to {}°F\".format(C,fah))\n",
    "    \n",
    "a = celsius_to_fahrenheit(20)"
   ]
  },
  {
   "cell_type": "markdown",
   "id": "dd9b5e7c",
   "metadata": {},
   "source": [
    "# 3.\tWrite a Python program to display calendar?"
   ]
  },
  {
   "cell_type": "code",
   "execution_count": 30,
   "id": "1b388496",
   "metadata": {},
   "outputs": [
    {
     "name": "stdout",
     "output_type": "stream",
     "text": [
      "Enter calender year: 2022\n",
      "                                  2022\n",
      "\n",
      "      January                   February                   March\n",
      "Mo Tu We Th Fr Sa Su      Mo Tu We Th Fr Sa Su      Mo Tu We Th Fr Sa Su\n",
      "                1  2          1  2  3  4  5  6          1  2  3  4  5  6\n",
      " 3  4  5  6  7  8  9       7  8  9 10 11 12 13       7  8  9 10 11 12 13\n",
      "10 11 12 13 14 15 16      14 15 16 17 18 19 20      14 15 16 17 18 19 20\n",
      "17 18 19 20 21 22 23      21 22 23 24 25 26 27      21 22 23 24 25 26 27\n",
      "24 25 26 27 28 29 30      28                        28 29 30 31\n",
      "31\n",
      "\n",
      "       April                      May                       June\n",
      "Mo Tu We Th Fr Sa Su      Mo Tu We Th Fr Sa Su      Mo Tu We Th Fr Sa Su\n",
      "             1  2  3                         1             1  2  3  4  5\n",
      " 4  5  6  7  8  9 10       2  3  4  5  6  7  8       6  7  8  9 10 11 12\n",
      "11 12 13 14 15 16 17       9 10 11 12 13 14 15      13 14 15 16 17 18 19\n",
      "18 19 20 21 22 23 24      16 17 18 19 20 21 22      20 21 22 23 24 25 26\n",
      "25 26 27 28 29 30         23 24 25 26 27 28 29      27 28 29 30\n",
      "                          30 31\n",
      "\n",
      "        July                     August                  September\n",
      "Mo Tu We Th Fr Sa Su      Mo Tu We Th Fr Sa Su      Mo Tu We Th Fr Sa Su\n",
      "             1  2  3       1  2  3  4  5  6  7                1  2  3  4\n",
      " 4  5  6  7  8  9 10       8  9 10 11 12 13 14       5  6  7  8  9 10 11\n",
      "11 12 13 14 15 16 17      15 16 17 18 19 20 21      12 13 14 15 16 17 18\n",
      "18 19 20 21 22 23 24      22 23 24 25 26 27 28      19 20 21 22 23 24 25\n",
      "25 26 27 28 29 30 31      29 30 31                  26 27 28 29 30\n",
      "\n",
      "      October                   November                  December\n",
      "Mo Tu We Th Fr Sa Su      Mo Tu We Th Fr Sa Su      Mo Tu We Th Fr Sa Su\n",
      "                1  2          1  2  3  4  5  6                1  2  3  4\n",
      " 3  4  5  6  7  8  9       7  8  9 10 11 12 13       5  6  7  8  9 10 11\n",
      "10 11 12 13 14 15 16      14 15 16 17 18 19 20      12 13 14 15 16 17 18\n",
      "17 18 19 20 21 22 23      21 22 23 24 25 26 27      19 20 21 22 23 24 25\n",
      "24 25 26 27 28 29 30      28 29 30                  26 27 28 29 30 31\n",
      "31\n",
      "\n"
     ]
    }
   ],
   "source": [
    "import calendar\n",
    "\n",
    "def showCalender():\n",
    "    year = int(input(\"Enter calender year: \"))\n",
    "    print(calendar.calendar(year))\n",
    "    \n",
    "showCalender()"
   ]
  },
  {
   "cell_type": "markdown",
   "id": "2dcf61d8",
   "metadata": {},
   "source": [
    "# 5.\tWrite a Python program to swap two variables without temp variable?\n"
   ]
  },
  {
   "cell_type": "code",
   "execution_count": 31,
   "id": "b1cc6630",
   "metadata": {},
   "outputs": [
    {
     "name": "stdout",
     "output_type": "stream",
     "text": [
      "Enter First Number: 23\n",
      "Enter Second Number: 42\n",
      "a & b value Before swapping 23 42\n",
      "a & b value after swapping 42 23\n"
     ]
    }
   ],
   "source": [
    "a = int(input('Enter First Number: '))\n",
    "b = int(input('Enter Second Number: '))\n",
    "print (\"a & b value Before swapping\",a ,b)\n",
    "a,b = b,a\n",
    "print (\"a & b value after swapping\",a ,b)"
   ]
  },
  {
   "cell_type": "code",
   "execution_count": null,
   "id": "aca13fc4",
   "metadata": {},
   "outputs": [],
   "source": []
  }
 ],
 "metadata": {
  "kernelspec": {
   "display_name": "Python 3 (ipykernel)",
   "language": "python",
   "name": "python3"
  },
  "language_info": {
   "codemirror_mode": {
    "name": "ipython",
    "version": 3
   },
   "file_extension": ".py",
   "mimetype": "text/x-python",
   "name": "python",
   "nbconvert_exporter": "python",
   "pygments_lexer": "ipython3",
   "version": "3.9.7"
  }
 },
 "nbformat": 4,
 "nbformat_minor": 5
}
