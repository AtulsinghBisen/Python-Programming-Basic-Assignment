{
 "cells": [
  {
   "cell_type": "markdown",
   "id": "6491cc72",
   "metadata": {},
   "source": [
    "# 1.Write a Python Program to find sum of elements in a list ?"
   ]
  },
  {
   "cell_type": "code",
   "execution_count": null,
   "id": "a43b84e7",
   "metadata": {},
   "outputs": [],
   "source": [
    "l = [1,2,3,4,5,6]\n",
    "sum = 0\n",
    "for i in l:\n",
    "    sum = sum+i\n",
    "print(sum)"
   ]
  },
  {
   "cell_type": "markdown",
   "id": "f84836e7",
   "metadata": {},
   "source": [
    "# 2.Write a Python Program to multiply all numbers in the list ?"
   ]
  },
  {
   "cell_type": "code",
   "execution_count": null,
   "id": "ba8769bd",
   "metadata": {},
   "outputs": [],
   "source": [
    "def mulofList():\n",
    "    in_ele = int(input('Enter the No of Entries in a List: '))\n",
    "    in_list = []\n",
    "    mul = 1\n",
    "    for itr in range(in_ele):\n",
    "        in_list.append(int(input('Enter a element: ')))\n",
    "    for ele in in_list:\n",
    "        mul = mul * ele\n",
    "    print(mul)\n",
    "\n",
    "mulofList()"
   ]
  },
  {
   "cell_type": "markdown",
   "id": "a9753b3a",
   "metadata": {},
   "source": [
    "# 3. Write a Python program to find smallest number in a list?"
   ]
  },
  {
   "cell_type": "code",
   "execution_count": null,
   "id": "2ed05a61",
   "metadata": {},
   "outputs": [],
   "source": [
    "L = [10,464,123,2,5,4,45,48486,5451]\n",
    "L.sort()\n",
    "print(L[0])"
   ]
  },
  {
   "cell_type": "markdown",
   "id": "9cbf0df1",
   "metadata": {},
   "source": [
    "# 4.Write a Python Program to find largest number in the list ?"
   ]
  },
  {
   "cell_type": "code",
   "execution_count": null,
   "id": "10e222e9",
   "metadata": {},
   "outputs": [],
   "source": [
    "L.sort()\n",
    "print(L[-1])"
   ]
  },
  {
   "cell_type": "markdown",
   "id": "ebc5bd52",
   "metadata": {},
   "source": [
    "# 5. Write a Python program to find second largest number in a list?"
   ]
  },
  {
   "cell_type": "code",
   "execution_count": null,
   "id": "df7c41f6",
   "metadata": {},
   "outputs": [],
   "source": [
    "L =[17, 16, 14, 15, 12]\n",
    "g = sorted(L)\n",
    "print(g[-2])"
   ]
  },
  {
   "cell_type": "markdown",
   "id": "b3cd5d4b",
   "metadata": {},
   "source": [
    "# 6.Write a Python Program to find N largest elements in the list ?"
   ]
  },
  {
   "cell_type": "code",
   "execution_count": null,
   "id": "94a2b895",
   "metadata": {},
   "outputs": [],
   "source": [
    "def nthlargest(n):\n",
    "    L.sort()\n",
    "    print(\"{}th largest number is {}\".format(n, L[-n]))"
   ]
  },
  {
   "cell_type": "code",
   "execution_count": null,
   "id": "20858c2a",
   "metadata": {},
   "outputs": [],
   "source": [
    "def nLargestEleInList(k):\n",
    "    in_ele = int(input('Enter the No of elements in a list: '))\n",
    "    in_list = []\n",
    "    for ele in range(in_ele):\n",
    "        in_list.append(int(input('Enter a Element: ')))\n",
    "    print(f'The {k} Largest Element in {in_list} is {sorted(in_list, reverse=True)[0:k]}')\n",
    "\n",
    "nLargestEleInList(4)"
   ]
  },
  {
   "cell_type": "markdown",
   "id": "c5950473",
   "metadata": {},
   "source": [
    "# 7.Write a Python Program to find even numbers in the list ?"
   ]
  },
  {
   "cell_type": "code",
   "execution_count": null,
   "id": "f2b2cbd6",
   "metadata": {},
   "outputs": [],
   "source": [
    "even = []\n",
    "for i in L:\n",
    "    if i%2==0:\n",
    "        even.append(i)\n",
    "print(even)"
   ]
  },
  {
   "cell_type": "markdown",
   "id": "d05896ad",
   "metadata": {},
   "source": [
    "# 8. Write a Python program to print odd numbers in a List?"
   ]
  },
  {
   "cell_type": "code",
   "execution_count": null,
   "id": "b08ff7b7",
   "metadata": {},
   "outputs": [],
   "source": [
    "odd = []\n",
    "for i in L:\n",
    "    if i%2!=0:\n",
    "        odd.append(i)\n",
    "print(odd)"
   ]
  },
  {
   "cell_type": "markdown",
   "id": "6174aab0",
   "metadata": {},
   "source": [
    "# 9.Write a Python Program to remove empty list from list ?"
   ]
  },
  {
   "cell_type": "code",
   "execution_count": null,
   "id": "3f7fde85",
   "metadata": {},
   "outputs": [],
   "source": [
    "l = [[],123,2,3,[1,2,3],[]]\n",
    "for i in l:\n",
    "    if i==[]:\n",
    "        l.remove(i)\n",
    "print(l)"
   ]
  },
  {
   "cell_type": "markdown",
   "id": "741661d1",
   "metadata": {},
   "source": [
    "# 10. Write a Python program to Cloning or Copying a list?"
   ]
  },
  {
   "cell_type": "code",
   "execution_count": null,
   "id": "f9369133",
   "metadata": {},
   "outputs": [],
   "source": [
    "def cloning(l):\n",
    "    copy = []\n",
    "    for i in l:\n",
    "        copy.append(i)\n",
    "    print(\"original list : {}\\nCloned List: {}\".format(l,copy))"
   ]
  },
  {
   "cell_type": "code",
   "execution_count": null,
   "id": "44c6f091",
   "metadata": {},
   "outputs": [],
   "source": [
    " cloning(L)"
   ]
  },
  {
   "cell_type": "markdown",
   "id": "4cd60e5c",
   "metadata": {},
   "source": [
    "# 11.Write a Python Program to count occurences of an element in a list ?"
   ]
  },
  {
   "cell_type": "code",
   "execution_count": 5,
   "id": "63934a74",
   "metadata": {},
   "outputs": [
    {
     "name": "stdout",
     "output_type": "stream",
     "text": [
      "10 has occured 3 times\n"
     ]
    }
   ],
   "source": [
    "l = [10,20,30,10,20,30,10]\n",
    "element = 10\n",
    "count = 0\n",
    "for i in l:\n",
    "    if element == i:\n",
    "        count+=1\n",
    "print(\"{} has occured {} times\".format(element,count))"
   ]
  },
  {
   "cell_type": "code",
   "execution_count": 3,
   "id": "c316dbda",
   "metadata": {},
   "outputs": [],
   "source": [
    "l = [10,20,30,10,20,30,10]\n",
    "k ={}\n",
    "for i in l:  \n",
    "    if i in k:\n",
    "        k[i] +=1\n",
    "    else:\n",
    "        k[i]= 1\n"
   ]
  },
  {
   "cell_type": "code",
   "execution_count": 4,
   "id": "d7a0435b",
   "metadata": {},
   "outputs": [
    {
     "data": {
      "text/plain": [
       "{10: 3, 20: 2, 30: 2}"
      ]
     },
     "execution_count": 4,
     "metadata": {},
     "output_type": "execute_result"
    }
   ],
   "source": [
    "k"
   ]
  },
  {
   "cell_type": "code",
   "execution_count": null,
   "id": "6b103e72",
   "metadata": {},
   "outputs": [],
   "source": []
  }
 ],
 "metadata": {
  "kernelspec": {
   "display_name": "Python 3 (ipykernel)",
   "language": "python",
   "name": "python3"
  },
  "language_info": {
   "codemirror_mode": {
    "name": "ipython",
    "version": 3
   },
   "file_extension": ".py",
   "mimetype": "text/x-python",
   "name": "python",
   "nbconvert_exporter": "python",
   "pygments_lexer": "ipython3",
   "version": "3.9.7"
  }
 },
 "nbformat": 4,
 "nbformat_minor": 5
}
