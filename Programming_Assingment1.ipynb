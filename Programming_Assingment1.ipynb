{
 "cells": [
  {
   "cell_type": "markdown",
   "id": "639e84a3",
   "metadata": {},
   "source": [
    "# 1.\tWrite a Python program to print \"Hello Python\"?"
   ]
  },
  {
   "cell_type": "code",
   "execution_count": 9,
   "id": "c07c3467",
   "metadata": {},
   "outputs": [
    {
     "name": "stdout",
     "output_type": "stream",
     "text": [
      "Hello Python\n"
     ]
    }
   ],
   "source": [
    "print('Hello Python')"
   ]
  },
  {
   "cell_type": "markdown",
   "id": "6aad4957",
   "metadata": {},
   "source": [
    "# 3.\tWrite a Python program to find the area of a triangle?\n"
   ]
  },
  {
   "cell_type": "code",
   "execution_count": 11,
   "id": "740ce96c",
   "metadata": {},
   "outputs": [
    {
     "name": "stdout",
     "output_type": "stream",
     "text": [
      "Enter height of triangle: 2\n",
      "Enter base of triangle: 5\n",
      "Area of triangle is  5.0\n"
     ]
    }
   ],
   "source": [
    "height = float(input('Enter height of triangle: '))\n",
    "base = float(input('Enter base of triangle: '))\n",
    "Area = (height*base) * 0.5\n",
    "\n",
    "print(\"Area of triangle is \" , Area)"
   ]
  },
  {
   "cell_type": "markdown",
   "id": "86de1f2e",
   "metadata": {},
   "source": [
    "# 4.\tWrite a Python program to swap two variables?"
   ]
  },
  {
   "cell_type": "code",
   "execution_count": 18,
   "id": "12427a6e",
   "metadata": {},
   "outputs": [
    {
     "name": "stdout",
     "output_type": "stream",
     "text": [
      "Enter First Number: 23\n",
      "Enter Second Number: 45\n",
      "a & b value Before swapping 23 45\n",
      "a & b value after swapping 45 23\n"
     ]
    }
   ],
   "source": [
    "a = int(input('Enter First Number: '))\n",
    "b = int(input('Enter Second Number: '))\n",
    "print (\"a & b value Before swapping\",a ,b)\n",
    "a,b = b,a\n",
    "print (\"a & b value after swapping\",a ,b)"
   ]
  },
  {
   "cell_type": "markdown",
   "id": "e80a611f",
   "metadata": {},
   "source": [
    "# 5.\tWrite a Python program to generate a random number?"
   ]
  },
  {
   "cell_type": "code",
   "execution_count": 21,
   "id": "c4a211b2",
   "metadata": {},
   "outputs": [
    {
     "name": "stdout",
     "output_type": "stream",
     "text": [
      "0.00331879699808324\n"
     ]
    }
   ],
   "source": [
    "import random\n",
    "rndno = random.random()\n",
    "print(rndno)"
   ]
  },
  {
   "cell_type": "markdown",
   "id": "010f15b3",
   "metadata": {},
   "source": [
    "# 2.\tWrite a Python program to do arithmetical operations addition and division.?"
   ]
  },
  {
   "cell_type": "code",
   "execution_count": null,
   "id": "63da890c",
   "metadata": {},
   "outputs": [],
   "source": []
  }
 ],
 "metadata": {
  "kernelspec": {
   "display_name": "Python 3 (ipykernel)",
   "language": "python",
   "name": "python3"
  },
  "language_info": {
   "codemirror_mode": {
    "name": "ipython",
    "version": 3
   },
   "file_extension": ".py",
   "mimetype": "text/x-python",
   "name": "python",
   "nbconvert_exporter": "python",
   "pygments_lexer": "ipython3",
   "version": "3.9.7"
  }
 },
 "nbformat": 4,
 "nbformat_minor": 5
}
