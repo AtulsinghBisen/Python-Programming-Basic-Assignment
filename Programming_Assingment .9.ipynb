{
 "cells": [
  {
   "cell_type": "markdown",
   "id": "7a176160",
   "metadata": {},
   "source": [
    "# 1. Write a Python program to check if the given number is a Disarium Number?"
   ]
  },
  {
   "cell_type": "code",
   "execution_count": 5,
   "id": "dbf6cb3a",
   "metadata": {},
   "outputs": [],
   "source": [
    "def Disarium_number(n):\n",
    "    b =  list(map(int, (str(n))))\n",
    "    z =[]\n",
    "    count = 0\n",
    "    for i in range(0,len(b)):\n",
    "        count =count +1\n",
    "        z.append(pow(b[i],count))\n",
    "    if n == sum(z):\n",
    "        print (f' Given number {n} is Disarium Number ')\n",
    "    else:\n",
    "        print (f' Given number {n} is  not Disarium Number ')"
   ]
  },
  {
   "cell_type": "code",
   "execution_count": 6,
   "id": "84038c60",
   "metadata": {},
   "outputs": [
    {
     "name": "stdout",
     "output_type": "stream",
     "text": [
      " Given number 135 is Disarium Number \n"
     ]
    }
   ],
   "source": [
    "Disarium_number(135)"
   ]
  },
  {
   "cell_type": "code",
   "execution_count": 7,
   "id": "51e87217",
   "metadata": {},
   "outputs": [
    {
     "name": "stdout",
     "output_type": "stream",
     "text": [
      " Given number 13 is  not Disarium Number \n"
     ]
    }
   ],
   "source": [
    "Disarium_number(13)"
   ]
  },
  {
   "cell_type": "code",
   "execution_count": 8,
   "id": "95c3c7b7",
   "metadata": {},
   "outputs": [],
   "source": [
    "def disarium(a):\n",
    "    temp = a\n",
    "    l = len(str(temp))\n",
    "    sum = 0\n",
    "    while temp!=0:\n",
    "        rem = temp%10\n",
    "        sum = sum + rem**l\n",
    "        l = l-1\n",
    "        temp = temp//10\n",
    "    if sum==a:\n",
    "        print(\"Its a Disarium Number\")\n",
    "    else:\n",
    "        print(\"Try another number\")"
   ]
  },
  {
   "cell_type": "markdown",
   "id": "e605e9e6",
   "metadata": {},
   "source": [
    "# 2.Write a Python program to print all disarium numbers between 1 to 100?"
   ]
  },
  {
   "cell_type": "code",
   "execution_count": 39,
   "id": "19c7b10b",
   "metadata": {},
   "outputs": [
    {
     "name": "stdout",
     "output_type": "stream",
     "text": [
      "Given Disarium list is:  "
     ]
    },
    {
     "data": {
      "text/plain": [
       "[0, 1, 2, 3, 4, 5, 6, 7, 8, 9, 89]"
      ]
     },
     "execution_count": 39,
     "metadata": {},
     "output_type": "execute_result"
    }
   ],
   "source": [
    "def Disarium_list(start =0,end =100):\n",
    "    Disarium =[]\n",
    "    print(\"Given Disarium list is: \", end=\" \")\n",
    "    for n in range (start,end):\n",
    "        b =  list(map(int, (str(n))))\n",
    "        z =[]\n",
    "        count = 0\n",
    "        for i in range(len(b)):\n",
    "            count =count +1\n",
    "            z.append(pow(b[i],count))\n",
    "        if n == sum(z):\n",
    "            Disarium.append(n)\n",
    "    return(Disarium)\n",
    "\n",
    "Disarium_list(start =0,end =100)"
   ]
  },
  {
   "cell_type": "markdown",
   "id": "e27b39fe",
   "metadata": {},
   "source": [
    "# 3.Write a Python Program to check if the given number is Happy Number ?"
   ]
  },
  {
   "cell_type": "code",
   "execution_count": 43,
   "id": "5ab7a56b",
   "metadata": {},
   "outputs": [
    {
     "data": {
      "text/plain": [
       "False"
      ]
     },
     "execution_count": 43,
     "metadata": {},
     "output_type": "execute_result"
    }
   ],
   "source": [
    "def squsum(n):\n",
    "    sum = 0\n",
    "    while n>0:\n",
    "        rem = n%10\n",
    "        sum = sum+rem**2\n",
    "        n = n//10\n",
    "    return sum\n",
    "\n",
    "\n",
    "def happy_no(n):\n",
    "    l=set()\n",
    "    while squsum(n) not in l:\n",
    "        sum1 = squsum(n)\n",
    "        if sum1==1:\n",
    "            return True\n",
    "        else:\n",
    "            l.add(sum1)\n",
    "            n = sum1\n",
    "    return False\n",
    "happy_no(11)            "
   ]
  },
  {
   "cell_type": "markdown",
   "id": "0b9e55be",
   "metadata": {},
   "source": [
    "# 4.Write a Python Program to print all Happy numbers between 1 and 100 ?"
   ]
  },
  {
   "cell_type": "code",
   "execution_count": 44,
   "id": "7493409b",
   "metadata": {},
   "outputs": [
    {
     "data": {
      "text/plain": [
       "[1, 7, 10, 13, 19, 23, 28, 31, 32, 44, 49, 68, 70, 79, 82, 86, 91, 94, 97, 100]"
      ]
     },
     "execution_count": 44,
     "metadata": {},
     "output_type": "execute_result"
    }
   ],
   "source": [
    "[i for i in range(1,101) if happy_no(i)==True]"
   ]
  },
  {
   "cell_type": "markdown",
   "id": "c7013598",
   "metadata": {},
   "source": [
    "# 5.Write a Python Program to determine whether the given number is a Harshad Number ?"
   ]
  },
  {
   "cell_type": "code",
   "execution_count": 45,
   "id": "4022fbcb",
   "metadata": {},
   "outputs": [],
   "source": [
    "def sumofdigits(n):\n",
    "    sum = 0\n",
    "    temp = n\n",
    "    while temp>0:\n",
    "        rem = temp%10\n",
    "        sum = sum + rem\n",
    "        temp = temp//10\n",
    "    return sum\n",
    "\n",
    "\n",
    "def harshad(n):\n",
    "    if n%sumofdigits(n)==0:\n",
    "        return True\n",
    "    return False"
   ]
  },
  {
   "cell_type": "code",
   "execution_count": 48,
   "id": "918aa0e7",
   "metadata": {},
   "outputs": [
    {
     "data": {
      "text/plain": [
       "True"
      ]
     },
     "execution_count": 48,
     "metadata": {},
     "output_type": "execute_result"
    }
   ],
   "source": [
    "harshad(5)"
   ]
  },
  {
   "cell_type": "markdown",
   "id": "30f69cdf",
   "metadata": {},
   "source": [
    "# 6.Write a Python Program to print all pronic numbers between 1 and 100 ?"
   ]
  },
  {
   "cell_type": "code",
   "execution_count": 49,
   "id": "a53ec230",
   "metadata": {},
   "outputs": [
    {
     "name": "stdout",
     "output_type": "stream",
     "text": [
      "[0, 2, 6, 12, 20, 30, 42, 56, 72, 90, 110, 132, 156, 182, 210, 240, 272, 306, 342, 380, 420, 462, 506, 552, 600, 650, 702, 756, 812, 870, 930, 992, 1056, 1122, 1190, 1260, 1332, 1406, 1482, 1560, 1640, 1722, 1806, 1892, 1980, 2070, 2162, 2256, 2352, 2450, 2550, 2652, 2756, 2862, 2970, 3080, 3192, 3306, 3422, 3540, 3660, 3782, 3906, 4032, 4160, 4290, 4422, 4556, 4692, 4830, 4970, 5112, 5256, 5402, 5550, 5700, 5852, 6006, 6162, 6320, 6480, 6642, 6806, 6972, 7140, 7310, 7482, 7656, 7832, 8010, 8190, 8372, 8556, 8742, 8930, 9120, 9312, 9506, 9702, 9900, 10100]\n"
     ]
    }
   ],
   "source": [
    "def printPronicNumbers(start=0,end=100):\n",
    "    outputList = []\n",
    "    for ele in range(start,end+1):\n",
    "        outputList.append((ele)*(ele+1))\n",
    "    print(outputList)\n",
    "                   \n",
    "printPronicNumbers()"
   ]
  },
  {
   "cell_type": "code",
   "execution_count": null,
   "id": "1d05895c",
   "metadata": {},
   "outputs": [],
   "source": []
  }
 ],
 "metadata": {
  "kernelspec": {
   "display_name": "Python 3 (ipykernel)",
   "language": "python",
   "name": "python3"
  },
  "language_info": {
   "codemirror_mode": {
    "name": "ipython",
    "version": 3
   },
   "file_extension": ".py",
   "mimetype": "text/x-python",
   "name": "python",
   "nbconvert_exporter": "python",
   "pygments_lexer": "ipython3",
   "version": "3.9.7"
  }
 },
 "nbformat": 4,
 "nbformat_minor": 5
}
